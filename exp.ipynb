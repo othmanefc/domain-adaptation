{
 "cells": [
  {
   "cell_type": "code",
   "execution_count": 1,
   "metadata": {},
   "outputs": [],
   "source": [
    "from domain_adaptation.datasets import SwaVDataset\n",
    "from domain_adaptation.archs import deepcluster\n",
    "from domain_adaptation.models import resnet\n",
    "import pathlib\n",
    "import os\n",
    "import matplotlib.pyplot as plt\n",
    "from itertools import groupby, compress\n",
    "\n",
    "import tensorflow as tf"
   ]
  },
  {
   "cell_type": "code",
   "execution_count": 2,
   "metadata": {},
   "outputs": [],
   "source": [
    "def decode_img(img):\n",
    "  # convert the compressed string to a 3D uint8 tensor\n",
    "  img = tf.image.decode_jpeg(img, channels=3)\n",
    "  # resize the image to the desired size\n",
    "  return tf.image.resize(img, [180, 180])\n",
    "\n",
    "def process_path(file_path):\n",
    "    label = tf.strings.split(file_path, os.sep)[-2]\n",
    "    img = tf.io.read_file(file_path)\n",
    "    img = decode_img(img)\n",
    "    return img\n",
    "\n",
    "# labeled_ds = ds.shuffle(1024).map(process_path)"
   ]
  },
  {
   "cell_type": "code",
   "execution_count": 3,
   "metadata": {},
   "outputs": [],
   "source": [
    "flowers_root = tf.keras.utils.get_file(\n",
    "    'flower_photos',\n",
    "    'https://storage.googleapis.com/download.tensorflow.org/example_images/flower_photos.tgz',\n",
    "    untar=True)\n",
    "flowers_root = pathlib.Path(flowers_root)"
   ]
  },
  {
   "cell_type": "code",
   "execution_count": 4,
   "metadata": {},
   "outputs": [],
   "source": [
    "flowers_ds = tf.data.Dataset.list_files(str(flowers_root/'*/*'))\n",
    "flowers_ds = flowers_ds.map(process_path)"
   ]
  },
  {
   "cell_type": "code",
   "execution_count": 5,
   "metadata": {},
   "outputs": [],
   "source": [
    "a = SwaVDataset.SwaVDataset(flowers_ds.take(128), \n",
    "                            nmb_crops=[3, 4],\n",
    "                            size_crops=[224, 168],\n",
    "                            min_scale_crops=[0.14, 0.16],\n",
    "                            max_scale_crops=[1., 1.])"
   ]
  },
  {
   "cell_type": "code",
   "execution_count": 6,
   "metadata": {},
   "outputs": [],
   "source": [
    "model = resnet.Resnet50().model\n",
    "swav_mod = deepcluster.DeepCluster(model=model, p_d1=1024, \n",
    "feat_dim=128, nmb_prototypes=[50, 50, 50], crops_for_assign=[0, 1])"
   ]
  },
  {
   "cell_type": "code",
   "execution_count": 7,
   "metadata": {
    "tags": []
   },
   "outputs": [
    {
     "output_type": "stream",
     "name": "stdout",
     "text": [
      "Model: \"model\"\n__________________________________________________________________________________________________\nLayer (type)                    Output Shape         Param #     Connected to                     \n==================================================================================================\ninput_2 (InputLayer)            [(None, 2048)]       0                                            \n__________________________________________________________________________________________________\ndense (Dense)                   (None, 1024)         2098176     input_2[0][0]                    \n__________________________________________________________________________________________________\nbatch_normalization_53 (BatchNo (None, 1024)         4096        dense[0][0]                      \n__________________________________________________________________________________________________\nactivation_49 (Activation)      (None, 1024)         0           batch_normalization_53[0][0]     \n__________________________________________________________________________________________________\nprojection (Dense)              (None, 128)          131200      activation_49[0][0]              \n__________________________________________________________________________________________________\ntf.math.l2_normalize (TFOpLambd (None, 128)          0           projection[0][0]                 \n__________________________________________________________________________________________________\nprototype_0 (Dense)             (None, 50)           6400        tf.math.l2_normalize[0][0]       \n__________________________________________________________________________________________________\nprototype_1 (Dense)             (None, 50)           6400        tf.math.l2_normalize[0][0]       \n__________________________________________________________________________________________________\nprototype_2 (Dense)             (None, 50)           6400        tf.math.l2_normalize[0][0]       \n==================================================================================================\nTotal params: 2,252,672\nTrainable params: 2,250,624\nNon-trainable params: 2,048\n__________________________________________________________________________________________________\n"
     ]
    }
   ],
   "source": [
    "swav_mod.prototype_model.summary()"
   ]
  },
  {
   "cell_type": "code",
   "execution_count": 8,
   "metadata": {},
   "outputs": [
    {
     "output_type": "stream",
     "name": "stdout",
     "text": [
      "Initializing memory banks...\n",
      "100%|██████████| 8/8 [00:45<00:00,  5.69s/it]\n",
      "Epoch 1/10:   0%|          | 0/8 [00:16<?, ?it/s]\n"
     ]
    },
    {
     "output_type": "error",
     "ename": "ValueError",
     "evalue": "No gradients provided for any variable: ['conv2d/kernel:0', 'conv2d/bias:0', 'batch_normalization/gamma:0', 'batch_normalization/beta:0', 'conv2d_1/kernel:0', 'conv2d_1/bias:0', 'batch_normalization_1/gamma:0', 'batch_normalization_1/beta:0', 'conv2d_2/kernel:0', 'conv2d_2/bias:0', 'batch_normalization_2/gamma:0', 'batch_normalization_2/beta:0', 'conv2d_3/kernel:0', 'conv2d_3/bias:0', 'conv2d_4/kernel:0', 'conv2d_4/bias:0', 'batch_normalization_3/gamma:0', 'batch_normalization_3/beta:0', 'batch_normalization_4/gamma:0', 'batch_normalization_4/beta:0', 'conv2d_5/kernel:0', 'conv2d_5/bias:0', 'batch_normalization_5/gamma:0', 'batch_normalization_5/beta:0', 'conv2d_6/kernel:0', 'conv2d_6/bias:0', 'batch_normalization_6/gamma:0', 'batch_normalization_6/beta:0', 'conv2d_7/kernel:0', 'conv2d_7/bias:0', 'batch_normalization_7/gamma:0', 'batch_normalization_7/beta:0', 'conv2d_8/kernel:0', 'conv2d_8/bias:0', 'batch_normalization_8/gamma:0', 'batch_normalization_8/beta:0', 'conv2d_9/kernel:0', 'conv2d_9/bias:0', 'batch_normalization_9/gamma:0', 'batch_normalization_9/beta:0', 'conv2d_10/kernel:0', 'conv2d_10/bias:0', 'batch_normalization_10/gamma:0', 'batch_normalization_10/beta:0', 'conv2d_11/kernel:0', 'conv2d_11/bias:0', 'batch_normalization_11/gamma:0', 'batch_normalization_11/beta:0', 'conv2d_12/kernel:0', 'conv2d_12/bias:0', 'batch_normalization_12/gamma:0', 'batch_normalization_12/beta:0', 'conv2d_13/kernel:0', 'conv2d_13/bias:0', 'conv2d_14/kernel:0', 'conv2d_14/bias:0', 'batch_normalization_13/gamma:0', 'batch_normalization_13/beta:0', 'batch_normalization_14/gamma:0', 'batch_normalization_14/beta:0', 'conv2d_15/kernel:0', 'conv2d_15/bias:0', 'batch_normalization_15/gamma:0', 'batch_normalization_15/beta:0', 'conv2d_16/kernel:0', 'conv2d_16/bias:0', 'batch_normalization_16/gamma:0', 'batch_normalization_16/beta:0', 'conv2d_17/kernel:0', 'conv2d_17/bias:0', 'batch_normalization_17/gamma:0', 'batch_normalization_17/beta:0', 'conv2d_18/kernel:0', 'conv2d_18/bias:0', 'batch_normalization_18/gamma:0', 'batch_normalization_18/beta:0', 'conv2d_19/kernel:0', 'conv2d_19/bias:0', 'batch_normalization_19/gamma:0', 'batch_normalization_19/beta:0', 'conv2d_20/kernel:0', 'conv2d_20/bias:0', 'batch_normalization_20/gamma:0', 'batch_normalization_20/beta:0', 'conv2d_21/kernel:0', 'conv2d_21/bias:0', 'batch_normalization_21/gamma:0', 'batch_normalization_21/beta:0', 'conv2d_22/kernel:0', 'conv2d_22/bias:0', 'batch_normalization_22/gamma:0', 'batch_normalization_22/beta:0', 'conv2d_23/kernel:0', 'conv2d_23/bias:0', 'batch_normalization_23/gamma:0', 'batch_normalization_23/beta:0', 'conv2d_24/kernel:0', 'conv2d_24/bias:0', 'batch_normalization_24/gamma:0', 'batch_normalization_24/beta:0', 'conv2d_25/kernel:0', 'conv2d_25/bias:0', 'batch_normalization_25/gamma:0', 'batch_normalization_25/beta:0', 'conv2d_26/kernel:0', 'conv2d_26/bias:0', 'conv2d_27/kernel:0', 'conv2d_27/bias:0', 'batch_normalization_26/gamma:0', 'batch_normalization_26/beta:0', 'batch_normalization_27/gamma:0', 'batch_normalization_27/beta:0', 'conv2d_28/kernel:0', 'conv2d_28/bias:0', 'batch_normalization_28/gamma:0', 'batch_normalization_28/beta:0', 'conv2d_29/kernel:0', 'conv2d_29/bias:0', 'batch_normalization_29/gamma:0', 'batch_normalization_29/beta:0', 'conv2d_30/kernel:0', 'conv2d_30/bias:0', 'batch_normalization_30/gamma:0', 'batch_normalization_30/beta:0', 'conv2d_31/kernel:0', 'conv2d_31/bias:0', 'batch_normalization_31/gamma:0', 'batch_normalization_31/beta:0', 'conv2d_32/kernel:0', 'conv2d_32/bias:0', 'batch_normalization_32/gamma:0', 'batch_normalization_32/beta:0', 'conv2d_33/kernel:0', 'conv2d_33/bias:0', 'batch_normalization_33/gamma:0', 'batch_normalization_33/beta:0', 'conv2d_34/kernel:0', 'conv2d_34/bias:0', 'batch_normalization_34/gamma:0', 'batch_normalization_34/beta:0', 'conv2d_35/kernel:0', 'conv2d_35/bias:0', 'batch_normalization_35/gamma:0', 'batch_normalization_35/beta:0', 'conv2d_36/kernel:0', 'conv2d_36/bias:0', 'batch_normalization_36/gamma:0', 'batch_normalization_36/beta:0', 'conv2d_37/kernel:0', 'conv2d_37/bias:0', 'batch_normalization_37/gamma:0', 'batch_normalization_37/beta:0', 'conv2d_38/kernel:0', 'conv2d_38/bias:0', 'batch_normalization_38/gamma:0', 'batch_normalization_38/beta:0', 'conv2d_39/kernel:0', 'conv2d_39/bias:0', 'batch_normalization_39/gamma:0', 'batch_normalization_39/beta:0', 'conv2d_40/kernel:0', 'conv2d_40/bias:0', 'batch_normalization_40/gamma:0', 'batch_normalization_40/beta:0', 'conv2d_41/kernel:0', 'conv2d_41/bias:0', 'batch_normalization_41/gamma:0', 'batch_normalization_41/beta:0', 'conv2d_42/kernel:0', 'conv2d_42/bias:0', 'batch_normalization_42/gamma:0', 'batch_normalization_42/beta:0', 'conv2d_43/kernel:0', 'conv2d_43/bias:0', 'batch_normalization_43/gamma:0', 'batch_normalization_43/beta:0', 'conv2d_44/kernel:0', 'conv2d_44/bias:0', 'batch_normalization_44/gamma:0', 'batch_normalization_44/beta:0', 'conv2d_45/kernel:0', 'conv2d_45/bias:0', 'conv2d_46/kernel:0', 'conv2d_46/bias:0', 'batch_normalization_45/gamma:0', 'batch_normalization_45/beta:0', 'batch_normalization_46/gamma:0', 'batch_normalization_46/beta:0', 'conv2d_47/kernel:0', 'conv2d_47/bias:0', 'batch_normalization_47/gamma:0', 'batch_normalization_47/beta:0', 'conv2d_48/kernel:0', 'conv2d_48/bias:0', 'batch_normalization_48/gamma:0', 'batch_normalization_48/beta:0', 'conv2d_49/kernel:0', 'conv2d_49/bias:0', 'batch_normalization_49/gamma:0', 'batch_normalization_49/beta:0', 'conv2d_50/kernel:0', 'conv2d_50/bias:0', 'batch_normalization_50/gamma:0', 'batch_normalization_50/beta:0', 'conv2d_51/kernel:0', 'conv2d_51/bias:0', 'batch_normalization_51/gamma:0', 'batch_normalization_51/beta:0', 'conv2d_52/kernel:0', 'conv2d_52/bias:0', 'batch_normalization_52/gamma:0', 'batch_normalization_52/beta:0', 'dense/kernel:0', 'dense/bias:0', 'batch_normalization_53/gamma:0', 'batch_normalization_53/beta:0', 'projection/kernel:0', 'projection/bias:0', 'prototype_0/kernel:0', 'prototype_1/kernel:0', 'prototype_2/kernel:0'].",
     "traceback": [
      "\u001b[0;31m---------------------------------------------------------------------------\u001b[0m",
      "\u001b[0;31mValueError\u001b[0m                                Traceback (most recent call last)",
      "\u001b[0;32m<ipython-input-8-cb9e366bb6ad>\u001b[0m in \u001b[0;36m<module>\u001b[0;34m\u001b[0m\n\u001b[1;32m      4\u001b[0m \u001b[0mopt\u001b[0m \u001b[0;34m=\u001b[0m \u001b[0mtf\u001b[0m\u001b[0;34m.\u001b[0m\u001b[0mkeras\u001b[0m\u001b[0;34m.\u001b[0m\u001b[0moptimizers\u001b[0m\u001b[0;34m.\u001b[0m\u001b[0mSGD\u001b[0m\u001b[0;34m(\u001b[0m\u001b[0mlearning_rate\u001b[0m\u001b[0;34m=\u001b[0m\u001b[0mlr_decayed_fn\u001b[0m\u001b[0;34m)\u001b[0m\u001b[0;34m\u001b[0m\u001b[0;34m\u001b[0m\u001b[0m\n\u001b[1;32m      5\u001b[0m \u001b[0;34m\u001b[0m\u001b[0m\n\u001b[0;32m----> 6\u001b[0;31m \u001b[0mhist\u001b[0m \u001b[0;34m=\u001b[0m \u001b[0mswav_mod\u001b[0m\u001b[0;34m.\u001b[0m\u001b[0mfit\u001b[0m\u001b[0;34m(\u001b[0m\u001b[0ma\u001b[0m\u001b[0;34m,\u001b[0m \u001b[0moptimizer\u001b[0m\u001b[0;34m=\u001b[0m\u001b[0mopt\u001b[0m\u001b[0;34m,\u001b[0m \u001b[0mepochs\u001b[0m\u001b[0;34m=\u001b[0m\u001b[0;36m10\u001b[0m\u001b[0;34m)\u001b[0m\u001b[0;34m\u001b[0m\u001b[0;34m\u001b[0m\u001b[0m\n\u001b[0m",
      "\u001b[0;32m~/Documents/repos/domain-adaptation/domain_adaptation/archs/deepcluster.py\u001b[0m in \u001b[0;36mfit\u001b[0;34m(self, dataloader, optimizer, epochs, nb_kmeans_iters)\u001b[0m\n\u001b[1;32m     60\u001b[0m                 nb_kmeans_iters=nb_kmeans_iters)\n\u001b[1;32m     61\u001b[0m             \u001b[0;32mfor\u001b[0m \u001b[0mi\u001b[0m\u001b[0;34m,\u001b[0m \u001b[0minputs\u001b[0m \u001b[0;32min\u001b[0m \u001b[0mpbar\u001b[0m\u001b[0;34m:\u001b[0m\u001b[0;34m\u001b[0m\u001b[0;34m\u001b[0m\u001b[0m\n\u001b[0;32m---> 62\u001b[0;31m                 \u001b[0mloss\u001b[0m \u001b[0;34m=\u001b[0m \u001b[0mself\u001b[0m\u001b[0;34m.\u001b[0m\u001b[0mepoch\u001b[0m\u001b[0;34m(\u001b[0m\u001b[0minputs\u001b[0m\u001b[0;34m,\u001b[0m \u001b[0moptimizer\u001b[0m\u001b[0;34m,\u001b[0m \u001b[0mi\u001b[0m\u001b[0;34m,\u001b[0m \u001b[0mdataloader\u001b[0m\u001b[0;34m.\u001b[0m\u001b[0mnmb_crops\u001b[0m\u001b[0;34m)\u001b[0m\u001b[0;34m\u001b[0m\u001b[0;34m\u001b[0m\u001b[0m\n\u001b[0m\u001b[1;32m     63\u001b[0m                 \u001b[0mself\u001b[0m\u001b[0;34m.\u001b[0m\u001b[0mstep_loss\u001b[0m\u001b[0;34m.\u001b[0m\u001b[0mappend\u001b[0m\u001b[0;34m(\u001b[0m\u001b[0mloss\u001b[0m\u001b[0;34m)\u001b[0m\u001b[0;34m\u001b[0m\u001b[0;34m\u001b[0m\u001b[0m\n\u001b[1;32m     64\u001b[0m                 pbar.set_description(\n",
      "\u001b[0;32m~/Documents/repos/domain-adaptation/domain_adaptation/archs/deepcluster.py\u001b[0m in \u001b[0;36mepoch\u001b[0;34m(self, inputs, optimizer, idx, nb_crops)\u001b[0m\n\u001b[1;32m    104\u001b[0m                  self.prototype_model.trainable_variables)\n\u001b[1;32m    105\u001b[0m         \u001b[0mgradients\u001b[0m \u001b[0;34m=\u001b[0m \u001b[0mtape\u001b[0m\u001b[0;34m.\u001b[0m\u001b[0mgradient\u001b[0m\u001b[0;34m(\u001b[0m\u001b[0mloss\u001b[0m\u001b[0;34m,\u001b[0m \u001b[0mvarrs\u001b[0m\u001b[0;34m)\u001b[0m\u001b[0;34m\u001b[0m\u001b[0;34m\u001b[0m\u001b[0m\n\u001b[0;32m--> 106\u001b[0;31m         \u001b[0moptimizer\u001b[0m\u001b[0;34m.\u001b[0m\u001b[0mapply_gradients\u001b[0m\u001b[0;34m(\u001b[0m\u001b[0mzip\u001b[0m\u001b[0;34m(\u001b[0m\u001b[0mgradients\u001b[0m\u001b[0;34m,\u001b[0m \u001b[0mvarrs\u001b[0m\u001b[0;34m)\u001b[0m\u001b[0;34m)\u001b[0m\u001b[0;34m\u001b[0m\u001b[0;34m\u001b[0m\u001b[0m\n\u001b[0m\u001b[1;32m    107\u001b[0m \u001b[0;34m\u001b[0m\u001b[0m\n\u001b[1;32m    108\u001b[0m         \u001b[0mself\u001b[0m\u001b[0;34m.\u001b[0m\u001b[0m_update_memory\u001b[0m\u001b[0;34m(\u001b[0m\u001b[0mb_s\u001b[0m\u001b[0;34m,\u001b[0m \u001b[0mstart\u001b[0m\u001b[0;34m,\u001b[0m \u001b[0midx\u001b[0m\u001b[0;34m,\u001b[0m \u001b[0membeddings\u001b[0m\u001b[0;34m)\u001b[0m\u001b[0;34m\u001b[0m\u001b[0;34m\u001b[0m\u001b[0m\n",
      "\u001b[0;32m~/Documents/repos/domain-adaptation/denv/lib/python3.8/site-packages/tensorflow/python/keras/optimizer_v2/optimizer_v2.py\u001b[0m in \u001b[0;36mapply_gradients\u001b[0;34m(self, grads_and_vars, name, experimental_aggregate_gradients)\u001b[0m\n\u001b[1;32m    596\u001b[0m       \u001b[0mRuntimeError\u001b[0m\u001b[0;34m:\u001b[0m \u001b[0mIf\u001b[0m \u001b[0mcalled\u001b[0m \u001b[0;32min\u001b[0m \u001b[0ma\u001b[0m \u001b[0mcross\u001b[0m\u001b[0;34m-\u001b[0m\u001b[0mreplica\u001b[0m \u001b[0mcontext\u001b[0m\u001b[0;34m.\u001b[0m\u001b[0;34m\u001b[0m\u001b[0;34m\u001b[0m\u001b[0m\n\u001b[1;32m    597\u001b[0m     \"\"\"\n\u001b[0;32m--> 598\u001b[0;31m     \u001b[0mgrads_and_vars\u001b[0m \u001b[0;34m=\u001b[0m \u001b[0moptimizer_utils\u001b[0m\u001b[0;34m.\u001b[0m\u001b[0mfilter_empty_gradients\u001b[0m\u001b[0;34m(\u001b[0m\u001b[0mgrads_and_vars\u001b[0m\u001b[0;34m)\u001b[0m\u001b[0;34m\u001b[0m\u001b[0;34m\u001b[0m\u001b[0m\n\u001b[0m\u001b[1;32m    599\u001b[0m     \u001b[0mvar_list\u001b[0m \u001b[0;34m=\u001b[0m \u001b[0;34m[\u001b[0m\u001b[0mv\u001b[0m \u001b[0;32mfor\u001b[0m \u001b[0;34m(\u001b[0m\u001b[0m_\u001b[0m\u001b[0;34m,\u001b[0m \u001b[0mv\u001b[0m\u001b[0;34m)\u001b[0m \u001b[0;32min\u001b[0m \u001b[0mgrads_and_vars\u001b[0m\u001b[0;34m]\u001b[0m\u001b[0;34m\u001b[0m\u001b[0;34m\u001b[0m\u001b[0m\n\u001b[1;32m    600\u001b[0m \u001b[0;34m\u001b[0m\u001b[0m\n",
      "\u001b[0;32m~/Documents/repos/domain-adaptation/denv/lib/python3.8/site-packages/tensorflow/python/keras/optimizer_v2/utils.py\u001b[0m in \u001b[0;36mfilter_empty_gradients\u001b[0;34m(grads_and_vars)\u001b[0m\n\u001b[1;32m     76\u001b[0m \u001b[0;34m\u001b[0m\u001b[0m\n\u001b[1;32m     77\u001b[0m   \u001b[0;32mif\u001b[0m \u001b[0;32mnot\u001b[0m \u001b[0mfiltered\u001b[0m\u001b[0;34m:\u001b[0m\u001b[0;34m\u001b[0m\u001b[0;34m\u001b[0m\u001b[0m\n\u001b[0;32m---> 78\u001b[0;31m     raise ValueError(\"No gradients provided for any variable: %s.\" %\n\u001b[0m\u001b[1;32m     79\u001b[0m                      ([v.name for _, v in grads_and_vars],))\n\u001b[1;32m     80\u001b[0m   \u001b[0;32mif\u001b[0m \u001b[0mvars_with_empty_grads\u001b[0m\u001b[0;34m:\u001b[0m\u001b[0;34m\u001b[0m\u001b[0;34m\u001b[0m\u001b[0m\n",
      "\u001b[0;31mValueError\u001b[0m: No gradients provided for any variable: ['conv2d/kernel:0', 'conv2d/bias:0', 'batch_normalization/gamma:0', 'batch_normalization/beta:0', 'conv2d_1/kernel:0', 'conv2d_1/bias:0', 'batch_normalization_1/gamma:0', 'batch_normalization_1/beta:0', 'conv2d_2/kernel:0', 'conv2d_2/bias:0', 'batch_normalization_2/gamma:0', 'batch_normalization_2/beta:0', 'conv2d_3/kernel:0', 'conv2d_3/bias:0', 'conv2d_4/kernel:0', 'conv2d_4/bias:0', 'batch_normalization_3/gamma:0', 'batch_normalization_3/beta:0', 'batch_normalization_4/gamma:0', 'batch_normalization_4/beta:0', 'conv2d_5/kernel:0', 'conv2d_5/bias:0', 'batch_normalization_5/gamma:0', 'batch_normalization_5/beta:0', 'conv2d_6/kernel:0', 'conv2d_6/bias:0', 'batch_normalization_6/gamma:0', 'batch_normalization_6/beta:0', 'conv2d_7/kernel:0', 'conv2d_7/bias:0', 'batch_normalization_7/gamma:0', 'batch_normalization_7/beta:0', 'conv2d_8/kernel:0', 'conv2d_8/bias:0', 'batch_normalization_8/gamma:0', 'batch_normalization_8/beta:0', 'conv2d_9/kernel:0', 'conv2d_9/bias:0', 'batch_normalization_9/gamma:0', 'batch_normalization_9/beta:0', 'conv2d_10/kernel:0', 'conv2d_10/bias:0', 'batch_normalization_10/gamma:0', 'batch_normalization_10/beta:0', 'conv2d_11/kernel:0', 'conv2d_11/bias:0', 'batch_normalization_11/gamma:0', 'batch_normalization_11/beta:0', 'conv2d_12/kernel:0', 'conv2d_12/bias:0', 'batch_normalization_12/gamma:0', 'batch_normalization_12/beta:0', 'conv2d_13/kernel:0', 'conv2d_13/bias:0', 'conv2d_14/kernel:0', 'conv2d_14/bias:0', 'batch_normalization_13/gamma:0', 'batch_normalization_13/beta:0', 'batch_normalization_14/gamma:0', 'batch_normalization_14/beta:0', 'conv2d_15/kernel:0', 'conv2d_15/bias:0', 'batch_normalization_15/gamma:0', 'batch_normalization_15/beta:0', 'conv2d_16/kernel:0', 'conv2d_16/bias:0', 'batch_normalization_16/gamma:0', 'batch_normalization_16/beta:0', 'conv2d_17/kernel:0', 'conv2d_17/bias:0', 'batch_normalization_17/gamma:0', 'batch_normalization_17/beta:0', 'conv2d_18/kernel:0', 'conv2d_18/bias:0', 'batch_normalization_18/gamma:0', 'batch_normalization_18/beta:0', 'conv2d_19/kernel:0', 'conv2d_19/bias:0', 'batch_normalization_19/gamma:0', 'batch_normalization_19/beta:0', 'conv2d_20/kernel:0', 'conv2d_20/bias:0', 'batch_normalization_20/gamma:0', 'batch_normalization_20/beta:0', 'conv2d_21/kernel:0', 'conv2d_21/bias:0', 'batch_normalization_21/gamma:0', 'batch_normalization_21/beta:0', 'conv2d_22/kernel:0', 'conv2d_22/bias:0', 'batch_normalization_22/gamma:0', 'batch_normalization_22/beta:0', 'conv2d_23/kernel:0', 'conv2d_23/bias:0', 'batch_normalization_23/gamma:0', 'batch_normalization_23/beta:0', 'conv2d_24/kernel:0', 'conv2d_24/bias:0', 'batch_normalization_24/gamma:0', 'batch_normalization_24/beta:0', 'conv2d_25/kernel:0', 'conv2d_25/bias:0', 'batch_normalization_25/gamma:0', 'batch_normalization_25/beta:0', 'conv2d_26/kernel:0', 'conv2d_26/bias:0', 'conv2d_27/kernel:0', 'conv2d_27/bias:0', 'batch_normalization_26/gamma:0', 'batch_normalization_26/beta:0', 'batch_normalization_27/gamma:0', 'batch_normalization_27/beta:0', 'conv2d_28/kernel:0', 'conv2d_28/bias:0', 'batch_normalization_28/gamma:0', 'batch_normalization_28/beta:0', 'conv2d_29/kernel:0', 'conv2d_29/bias:0', 'batch_normalization_29/gamma:0', 'batch_normalization_29/beta:0', 'conv2d_30/kernel:0', 'conv2d_30/bias:0', 'batch_normalization_30/gamma:0', 'batch_normalization_30/beta:0', 'conv2d_31/kernel:0', 'conv2d_31/bias:0', 'batch_normalization_31/gamma:0', 'batch_normalization_31/beta:0', 'conv2d_32/kernel:0', 'conv2d_32/bias:0', 'batch_normalization_32/gamma:0', 'batch_normalization_32/beta:0', 'conv2d_33/kernel:0', 'conv2d_33/bias:0', 'batch_normalization_33/gamma:0', 'batch_normalization_33/beta:0', 'conv2d_34/kernel:0', 'conv2d_34/bias:0', 'batch_normalization_34/gamma:0', 'batch_normalization_34/beta:0', 'conv2d_35/kernel:0', 'conv2d_35/bias:0', 'batch_normalization_35/gamma:0', 'batch_normalization_35/beta:0', 'conv2d_36/kernel:0', 'conv2d_36/bias:0', 'batch_normalization_36/gamma:0', 'batch_normalization_36/beta:0', 'conv2d_37/kernel:0', 'conv2d_37/bias:0', 'batch_normalization_37/gamma:0', 'batch_normalization_37/beta:0', 'conv2d_38/kernel:0', 'conv2d_38/bias:0', 'batch_normalization_38/gamma:0', 'batch_normalization_38/beta:0', 'conv2d_39/kernel:0', 'conv2d_39/bias:0', 'batch_normalization_39/gamma:0', 'batch_normalization_39/beta:0', 'conv2d_40/kernel:0', 'conv2d_40/bias:0', 'batch_normalization_40/gamma:0', 'batch_normalization_40/beta:0', 'conv2d_41/kernel:0', 'conv2d_41/bias:0', 'batch_normalization_41/gamma:0', 'batch_normalization_41/beta:0', 'conv2d_42/kernel:0', 'conv2d_42/bias:0', 'batch_normalization_42/gamma:0', 'batch_normalization_42/beta:0', 'conv2d_43/kernel:0', 'conv2d_43/bias:0', 'batch_normalization_43/gamma:0', 'batch_normalization_43/beta:0', 'conv2d_44/kernel:0', 'conv2d_44/bias:0', 'batch_normalization_44/gamma:0', 'batch_normalization_44/beta:0', 'conv2d_45/kernel:0', 'conv2d_45/bias:0', 'conv2d_46/kernel:0', 'conv2d_46/bias:0', 'batch_normalization_45/gamma:0', 'batch_normalization_45/beta:0', 'batch_normalization_46/gamma:0', 'batch_normalization_46/beta:0', 'conv2d_47/kernel:0', 'conv2d_47/bias:0', 'batch_normalization_47/gamma:0', 'batch_normalization_47/beta:0', 'conv2d_48/kernel:0', 'conv2d_48/bias:0', 'batch_normalization_48/gamma:0', 'batch_normalization_48/beta:0', 'conv2d_49/kernel:0', 'conv2d_49/bias:0', 'batch_normalization_49/gamma:0', 'batch_normalization_49/beta:0', 'conv2d_50/kernel:0', 'conv2d_50/bias:0', 'batch_normalization_50/gamma:0', 'batch_normalization_50/beta:0', 'conv2d_51/kernel:0', 'conv2d_51/bias:0', 'batch_normalization_51/gamma:0', 'batch_normalization_51/beta:0', 'conv2d_52/kernel:0', 'conv2d_52/bias:0', 'batch_normalization_52/gamma:0', 'batch_normalization_52/beta:0', 'dense/kernel:0', 'dense/bias:0', 'batch_normalization_53/gamma:0', 'batch_normalization_53/beta:0', 'projection/kernel:0', 'projection/bias:0', 'prototype_0/kernel:0', 'prototype_1/kernel:0', 'prototype_2/kernel:0']."
     ]
    }
   ],
   "source": [
    "decay_steps = 1000\n",
    "lr_decayed_fn = tf.keras.experimental.CosineDecay(initial_learning_rate=0.1, \n",
    "                                                decay_steps=decay_steps)\n",
    "opt = tf.keras.optimizers.SGD(learning_rate=lr_decayed_fn)\n",
    "\n",
    "hist = swav_mod.fit(a, optimizer=opt, epochs=10)"
   ]
  },
  {
   "cell_type": "code",
   "execution_count": 22,
   "metadata": {},
   "outputs": [
    {
     "output_type": "stream",
     "name": "stdout",
     "text": [
      "WARNING:tensorflow:The dtype of the watched tensor must be floating (e.g. tf.float32), got tf.int32\n",
      "WARNING:tensorflow:The dtype of the watched tensor must be floating (e.g. tf.float32), got tf.int32\n"
     ]
    }
   ],
   "source": [
    "inputs = next(iter(a.dataset_swaved))\n",
    "images = inputs\n",
    "b_s = images[0].shape[0]\n",
    "crop_sizes = [img.shape[1] for img in images]\n",
    "idx_crops = tf.math.cumsum(\n",
    "    [len(list(g)) for _, g in groupby(crop_sizes)], axis=0)\n",
    "start = 0\n",
    "with tf.GradientTape() as tape:\n",
    "    tape.watch(inputs)\n",
    "    for end in idx_crops:\n",
    "        concat_input = tf.stop_gradient(\n",
    "            tf.concat(values=inputs[start:end], axis=0))\n",
    "        _embedding = swav_mod.model(concat_input)\n",
    "        if start == 0:\n",
    "            embeddings = _embedding\n",
    "        else:\n",
    "            embeddings = tf.concat(values=(embeddings, _embedding),\n",
    "                                    axis=0)\n",
    "        start = end\n",
    "    projection, prototypes = swav_mod.prototype_model(embeddings)\n",
    "    prototypes = [tf.stop_gradient(pro) for pro in prototypes] \n",
    "    tape.watch(swav_mod.assignements)\n",
    "    scores = prototypes[0]/ 0.1\n",
    "    targets = tf.tile(swav_mod.assignements[0][0:16], [7])\n",
    "    tape.watch(tf.cast(swav_mod.assignements[0][0:16], dtype=tf.float32))\n",
    "    tape.watch(scores)\n",
    "    tape.watch(targets)\n",
    "    loss = tf.reduce_mean(tf.nn.sparse_softmax_cross_entropy_with_logits(targets,scores))"
   ]
  },
  {
   "cell_type": "code",
   "execution_count": 23,
   "metadata": {},
   "outputs": [],
   "source": [
    "varrs = (swav_mod.model.trainable_variables + swav_mod.prototype_model.trainable_variables)"
   ]
  },
  {
   "cell_type": "code",
   "execution_count": 24,
   "metadata": {},
   "outputs": [],
   "source": [
    "gradients = tape.gradient(loss, varrs)"
   ]
  }
 ],
 "metadata": {
  "kernelspec": {
   "name": "python3",
   "display_name": "Python 3",
   "language": "python"
  },
  "language_info": {
   "codemirror_mode": {
    "name": "ipython",
    "version": 3
   },
   "file_extension": ".py",
   "mimetype": "text/x-python",
   "name": "python",
   "nbconvert_exporter": "python",
   "pygments_lexer": "ipython3",
   "version": "3.8.7-final"
  }
 },
 "nbformat": 4,
 "nbformat_minor": 4
}